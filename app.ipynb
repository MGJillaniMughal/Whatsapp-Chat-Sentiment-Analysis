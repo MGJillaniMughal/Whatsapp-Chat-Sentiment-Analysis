{
 "cells": [
  {
   "cell_type": "code",
   "execution_count": 1,
   "metadata": {},
   "outputs": [],
   "source": [
    "import re\n",
    "import pandas as pd \n",
    "import numpy as np \n",
    "import emoji\n",
    "from collections import Counter\n",
    "import matplotlib.pyplot as plt \n",
    "from PIL import Image\n",
    "from wordcloud import WordCloud,STOPWORDS,ImageColorGenerator"
   ]
  },
  {
   "cell_type": "code",
   "execution_count": 5,
   "metadata": {},
   "outputs": [],
   "source": [
    "# Extract Time\n",
    "\n",
    "def date_time(s):\n",
    "    pattern = '^([0-9]+)(\\/)([0-9]+)(\\/)([0-9]+), ([0-9]+):([0-9]+)[ ]?(AM|PM|am|pm)? -'\n",
    "    result=re.match(pattern,s)\n",
    "    if result:\n",
    "        return True\n",
    "    return False\n",
    "\n",
    "# Find Authors or Contacts\n",
    "def Find_author(s):\n",
    "    s=s.split(':')\n",
    "    if len(s)==2:\n",
    "        return True\n",
    "    else:\n",
    "        return False\n",
    "\n",
    "# Finding Messages\n",
    "def GetDataPoint(line):\n",
    "    splitline=line.split(' - ')\n",
    "    dateTime=splitline[0]\n",
    "    date,time=dateTime.split(\", \")\n",
    "    message=\" \".join(splitline[1:])\n",
    "    if Find_author(message):\n",
    "        splitmessage=message.split(\": \")\n",
    "        author=splitmessage[0]\n",
    "        message=\" \".join(splitmessage[1:])\n",
    "    else:\n",
    "        author=None \n",
    "    return date,time,author,message "
   ]
  },
  {
   "cell_type": "code",
   "execution_count": 6,
   "metadata": {},
   "outputs": [],
   "source": [
    "data=[]\n",
    "conversation=\"WhatsApp Chat with Shiza J_s.txt\"\n",
    "\n",
    "with open(conversation,encoding=\"utf-8\")as fp:\n",
    "    fp.readline()\n",
    "    messageBuffer=[]\n",
    "    date,time,author=None,None,None\n",
    "    while True:\n",
    "        line=fp.readline()\n",
    "        if not line:\n",
    "            break\n",
    "        line=line.strip()\n",
    "        if date_time(line):\n",
    "            if len(messageBuffer)>0:\n",
    "                data.append([date,time,author,\" \".join(messageBuffer)])\n",
    "            messageBuffer.clear()\n",
    "            date,time,author,message=GetDataPoint(line)\n",
    "            messageBuffer.append(message)\n",
    "        else:\n",
    "            messageBuffer.append(line)\n",
    "\n",
    "\n",
    "\n"
   ]
  },
  {
   "cell_type": "code",
   "execution_count": 7,
   "metadata": {},
   "outputs": [
    {
     "name": "stderr",
     "output_type": "stream",
     "text": [
      "C:\\Users\\MGJil\\AppData\\Local\\Temp/ipykernel_24316/3707859296.py:7: SettingWithCopyWarning: \n",
      "A value is trying to be set on a copy of a slice from a DataFrame.\n",
      "Try using .loc[row_indexer,col_indexer] = value instead\n",
      "\n",
      "See the caveats in the documentation: https://pandas.pydata.org/pandas-docs/stable/user_guide/indexing.html#returning-a-view-versus-a-copy\n",
      "  data[\"Positive\"] = [sentiments.polarity_scores(i)[\"pos\"] for i in data[\"Message\"]]\n",
      "C:\\Users\\MGJil\\AppData\\Local\\Temp/ipykernel_24316/3707859296.py:8: SettingWithCopyWarning: \n",
      "A value is trying to be set on a copy of a slice from a DataFrame.\n",
      "Try using .loc[row_indexer,col_indexer] = value instead\n",
      "\n",
      "See the caveats in the documentation: https://pandas.pydata.org/pandas-docs/stable/user_guide/indexing.html#returning-a-view-versus-a-copy\n",
      "  data[\"Negative\"] = [sentiments.polarity_scores(i)[\"neg\"] for i in data[\"Message\"]]\n"
     ]
    },
    {
     "name": "stdout",
     "output_type": "stream",
     "text": [
      "        Date     Time                 Author  \\\n",
      "0 2022-01-29  9:19 AM  Jillani Mughal💖💞😘💕😎😍💖   \n",
      "1 2022-01-29  9:19 AM              Shiza J/s   \n",
      "2 2022-01-29  9:19 AM              Shiza J/s   \n",
      "3 2022-01-29  9:19 AM  Jillani Mughal💖💞😘💕😎😍💖   \n",
      "4 2022-01-29  9:19 AM  Jillani Mughal💖💞😘💕😎😍💖   \n",
      "\n",
      "                                Message  Positive  Negative  Neutral  \n",
      "0  Jab Aya Tha tab ap tayar he nihi thi       0.0     0.000    1.000  \n",
      "1                                    Q?       0.0     0.000    1.000  \n",
      "2                            Hahahaha..       0.0     0.000    1.000  \n",
      "3  Yr ap rat ko 1 Difa v nihi reply Kia       0.0     0.375    0.625  \n",
      "4         MA pita nihi Kia samj rha Tha       0.0     0.603    0.397  \n"
     ]
    },
    {
     "name": "stderr",
     "output_type": "stream",
     "text": [
      "C:\\Users\\MGJil\\AppData\\Local\\Temp/ipykernel_24316/3707859296.py:9: SettingWithCopyWarning: \n",
      "A value is trying to be set on a copy of a slice from a DataFrame.\n",
      "Try using .loc[row_indexer,col_indexer] = value instead\n",
      "\n",
      "See the caveats in the documentation: https://pandas.pydata.org/pandas-docs/stable/user_guide/indexing.html#returning-a-view-versus-a-copy\n",
      "  data[\"Neutral\"] = [sentiments.polarity_scores(i)[\"neu\"] for i in data[\"Message\"]]\n"
     ]
    }
   ],
   "source": [
    "df = pd.DataFrame(data, columns=[\"Date\", 'Time', 'Author', 'Message'])\n",
    "df['Date'] = pd.to_datetime(df['Date'])\n",
    "\n",
    "data = df.dropna()\n",
    "from nltk.sentiment.vader import SentimentIntensityAnalyzer\n",
    "sentiments = SentimentIntensityAnalyzer()\n",
    "data[\"Positive\"] = [sentiments.polarity_scores(i)[\"pos\"] for i in data[\"Message\"]]\n",
    "data[\"Negative\"] = [sentiments.polarity_scores(i)[\"neg\"] for i in data[\"Message\"]]\n",
    "data[\"Neutral\"] = [sentiments.polarity_scores(i)[\"neu\"] for i in data[\"Message\"]]\n",
    "print(data.head())"
   ]
  },
  {
   "cell_type": "code",
   "execution_count": 8,
   "metadata": {},
   "outputs": [
    {
     "name": "stdout",
     "output_type": "stream",
     "text": [
      "Neutral 🙂 \n"
     ]
    }
   ],
   "source": [
    "x = sum(data[\"Positive\"])\n",
    "y = sum(data[\"Negative\"])\n",
    "z = sum(data[\"Neutral\"])\n",
    "\n",
    "def sentiment_score(a, b, c):\n",
    "    if (a>b) and (a>c):\n",
    "        print(\"Positive 😊 \")\n",
    "    elif (b>a) and (b>c):\n",
    "        print(\"Negative 😠 \")\n",
    "    else:\n",
    "        print(\"Neutral 🙂 \")\n",
    "sentiment_score(x, y, z)"
   ]
  },
  {
   "cell_type": "code",
   "execution_count": null,
   "metadata": {},
   "outputs": [],
   "source": []
  }
 ],
 "metadata": {
  "interpreter": {
   "hash": "d00fd4e631682abace900ed0cf51da74f66e9d1b45916168e0fb854850521550"
  },
  "kernelspec": {
   "display_name": "Python 3.9.7 ('base')",
   "language": "python",
   "name": "python3"
  },
  "language_info": {
   "codemirror_mode": {
    "name": "ipython",
    "version": 3
   },
   "file_extension": ".py",
   "mimetype": "text/x-python",
   "name": "python",
   "nbconvert_exporter": "python",
   "pygments_lexer": "ipython3",
   "version": "3.9.7"
  },
  "orig_nbformat": 4
 },
 "nbformat": 4,
 "nbformat_minor": 2
}
